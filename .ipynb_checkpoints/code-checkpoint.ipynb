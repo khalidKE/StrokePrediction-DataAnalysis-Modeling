{
 "cells": [
  {
   "cell_type": "code",
   "execution_count": 39,
   "id": "2130ae8c-a98d-4318-8456-a3523e6f0f91",
   "metadata": {},
   "outputs": [],
   "source": [
    "# import all library\n",
    "import pandas as pd\n",
    "import numpy as np \n",
    "import seaborn as sns\n",
    "import matplotlib.pyplot as plt\n",
    "from sklearn.model_selection import train_test_split\n",
    "from sklearn.preprocessing import LabelEncoder\n",
    "from sklearn.metrics import accuracy_score\n",
    "from sklearn.preprocessing import StandardScaler\n",
    "from sklearn.tree import DecisionTreeClassifier\n",
    "from sklearn.linear_model import LogisticRegression\n",
    "from sklearn.ensemble import RandomForestClassifier\n",
    "from sklearn.ensemble import GradientBoostingClassifier"
   ]
  },
  {
   "cell_type": "code",
   "execution_count": 40,
   "id": "f6edb19c-0e5e-4d73-83b1-9ee441e67e67",
   "metadata": {},
   "outputs": [],
   "source": [
    "demand=pd.read_csv(\"labels.csv\")"
   ]
  },
  {
   "cell_type": "code",
   "execution_count": 41,
   "id": "4cbbc089-9b97-4004-a794-a8fa1e55b098",
   "metadata": {},
   "outputs": [
    {
     "data": {
      "text/html": [
       "<div>\n",
       "<style scoped>\n",
       "    .dataframe tbody tr th:only-of-type {\n",
       "        vertical-align: middle;\n",
       "    }\n",
       "\n",
       "    .dataframe tbody tr th {\n",
       "        vertical-align: top;\n",
       "    }\n",
       "\n",
       "    .dataframe thead th {\n",
       "        text-align: right;\n",
       "    }\n",
       "</style>\n",
       "<table border=\"1\" class=\"dataframe\">\n",
       "  <thead>\n",
       "    <tr style=\"text-align: right;\">\n",
       "      <th></th>\n",
       "      <th>filepath</th>\n",
       "      <th>label</th>\n",
       "    </tr>\n",
       "  </thead>\n",
       "  <tbody>\n",
       "    <tr>\n",
       "      <th>0</th>\n",
       "      <td>train/Cabbage__Black_Rot/aug_64.jpg</td>\n",
       "      <td>Cabbage__Black_Rot</td>\n",
       "    </tr>\n",
       "    <tr>\n",
       "      <th>1</th>\n",
       "      <td>train/Cabbage__Black_Rot/aug_11.jpg</td>\n",
       "      <td>Cabbage__Black_Rot</td>\n",
       "    </tr>\n",
       "    <tr>\n",
       "      <th>2</th>\n",
       "      <td>train/Cabbage__Black_Rot/aug_4.jpg</td>\n",
       "      <td>Cabbage__Black_Rot</td>\n",
       "    </tr>\n",
       "    <tr>\n",
       "      <th>3</th>\n",
       "      <td>train/Cabbage__Black_Rot/orig_49.jpg</td>\n",
       "      <td>Cabbage__Black_Rot</td>\n",
       "    </tr>\n",
       "    <tr>\n",
       "      <th>4</th>\n",
       "      <td>train/Cabbage__Black_Rot/orig_69.jpg</td>\n",
       "      <td>Cabbage__Black_Rot</td>\n",
       "    </tr>\n",
       "  </tbody>\n",
       "</table>\n",
       "</div>"
      ],
      "text/plain": [
       "                               filepath               label\n",
       "0   train/Cabbage__Black_Rot/aug_64.jpg  Cabbage__Black_Rot\n",
       "1   train/Cabbage__Black_Rot/aug_11.jpg  Cabbage__Black_Rot\n",
       "2    train/Cabbage__Black_Rot/aug_4.jpg  Cabbage__Black_Rot\n",
       "3  train/Cabbage__Black_Rot/orig_49.jpg  Cabbage__Black_Rot\n",
       "4  train/Cabbage__Black_Rot/orig_69.jpg  Cabbage__Black_Rot"
      ]
     },
     "execution_count": 41,
     "metadata": {},
     "output_type": "execute_result"
    }
   ],
   "source": [
    "demand.head()\n",
    "# get me first 5 row"
   ]
  },
  {
   "cell_type": "code",
   "execution_count": 42,
   "id": "799ce228-7836-400d-afc4-e75abbf8208f",
   "metadata": {},
   "outputs": [
    {
     "data": {
      "text/html": [
       "<div>\n",
       "<style scoped>\n",
       "    .dataframe tbody tr th:only-of-type {\n",
       "        vertical-align: middle;\n",
       "    }\n",
       "\n",
       "    .dataframe tbody tr th {\n",
       "        vertical-align: top;\n",
       "    }\n",
       "\n",
       "    .dataframe thead th {\n",
       "        text-align: right;\n",
       "    }\n",
       "</style>\n",
       "<table border=\"1\" class=\"dataframe\">\n",
       "  <thead>\n",
       "    <tr style=\"text-align: right;\">\n",
       "      <th></th>\n",
       "      <th>filepath</th>\n",
       "      <th>label</th>\n",
       "    </tr>\n",
       "  </thead>\n",
       "  <tbody>\n",
       "    <tr>\n",
       "      <th>0</th>\n",
       "      <td>train/Cabbage__Black_Rot/aug_64.jpg</td>\n",
       "      <td>Cabbage__Black_Rot</td>\n",
       "    </tr>\n",
       "    <tr>\n",
       "      <th>1</th>\n",
       "      <td>train/Cabbage__Black_Rot/aug_11.jpg</td>\n",
       "      <td>Cabbage__Black_Rot</td>\n",
       "    </tr>\n",
       "    <tr>\n",
       "      <th>2</th>\n",
       "      <td>train/Cabbage__Black_Rot/aug_4.jpg</td>\n",
       "      <td>Cabbage__Black_Rot</td>\n",
       "    </tr>\n",
       "    <tr>\n",
       "      <th>3</th>\n",
       "      <td>train/Cabbage__Black_Rot/orig_49.jpg</td>\n",
       "      <td>Cabbage__Black_Rot</td>\n",
       "    </tr>\n",
       "    <tr>\n",
       "      <th>4</th>\n",
       "      <td>train/Cabbage__Black_Rot/orig_69.jpg</td>\n",
       "      <td>Cabbage__Black_Rot</td>\n",
       "    </tr>\n",
       "    <tr>\n",
       "      <th>5</th>\n",
       "      <td>train/Cabbage__Black_Rot/aug_79.jpg</td>\n",
       "      <td>Cabbage__Black_Rot</td>\n",
       "    </tr>\n",
       "    <tr>\n",
       "      <th>6</th>\n",
       "      <td>train/Cabbage__Black_Rot/aug_43.jpg</td>\n",
       "      <td>Cabbage__Black_Rot</td>\n",
       "    </tr>\n",
       "    <tr>\n",
       "      <th>7</th>\n",
       "      <td>train/Cabbage__Black_Rot/orig_55.jpg</td>\n",
       "      <td>Cabbage__Black_Rot</td>\n",
       "    </tr>\n",
       "    <tr>\n",
       "      <th>8</th>\n",
       "      <td>train/Cabbage__Black_Rot/orig_72.jpg</td>\n",
       "      <td>Cabbage__Black_Rot</td>\n",
       "    </tr>\n",
       "    <tr>\n",
       "      <th>9</th>\n",
       "      <td>train/Cabbage__Black_Rot/orig_26.jpg</td>\n",
       "      <td>Cabbage__Black_Rot</td>\n",
       "    </tr>\n",
       "  </tbody>\n",
       "</table>\n",
       "</div>"
      ],
      "text/plain": [
       "                               filepath               label\n",
       "0   train/Cabbage__Black_Rot/aug_64.jpg  Cabbage__Black_Rot\n",
       "1   train/Cabbage__Black_Rot/aug_11.jpg  Cabbage__Black_Rot\n",
       "2    train/Cabbage__Black_Rot/aug_4.jpg  Cabbage__Black_Rot\n",
       "3  train/Cabbage__Black_Rot/orig_49.jpg  Cabbage__Black_Rot\n",
       "4  train/Cabbage__Black_Rot/orig_69.jpg  Cabbage__Black_Rot\n",
       "5   train/Cabbage__Black_Rot/aug_79.jpg  Cabbage__Black_Rot\n",
       "6   train/Cabbage__Black_Rot/aug_43.jpg  Cabbage__Black_Rot\n",
       "7  train/Cabbage__Black_Rot/orig_55.jpg  Cabbage__Black_Rot\n",
       "8  train/Cabbage__Black_Rot/orig_72.jpg  Cabbage__Black_Rot\n",
       "9  train/Cabbage__Black_Rot/orig_26.jpg  Cabbage__Black_Rot"
      ]
     },
     "execution_count": 42,
     "metadata": {},
     "output_type": "execute_result"
    }
   ],
   "source": [
    "demand.head(10) \n",
    "# get me first 10 row"
   ]
  },
  {
   "cell_type": "code",
   "execution_count": 43,
   "id": "78e6f26f-930a-48bf-a351-367841389459",
   "metadata": {},
   "outputs": [
    {
     "data": {
      "text/html": [
       "<div>\n",
       "<style scoped>\n",
       "    .dataframe tbody tr th:only-of-type {\n",
       "        vertical-align: middle;\n",
       "    }\n",
       "\n",
       "    .dataframe tbody tr th {\n",
       "        vertical-align: top;\n",
       "    }\n",
       "\n",
       "    .dataframe thead th {\n",
       "        text-align: right;\n",
       "    }\n",
       "</style>\n",
       "<table border=\"1\" class=\"dataframe\">\n",
       "  <thead>\n",
       "    <tr style=\"text-align: right;\">\n",
       "      <th></th>\n",
       "      <th>filepath</th>\n",
       "      <th>label</th>\n",
       "    </tr>\n",
       "  </thead>\n",
       "  <tbody>\n",
       "    <tr>\n",
       "      <th>84518</th>\n",
       "      <td>test/Cabbage__Bacterial_spot_rot/orig_24.jpg</td>\n",
       "      <td>Cabbage__Bacterial_spot_rot</td>\n",
       "    </tr>\n",
       "    <tr>\n",
       "      <th>84519</th>\n",
       "      <td>test/Cabbage__Bacterial_spot_rot/orig_80.jpg</td>\n",
       "      <td>Cabbage__Bacterial_spot_rot</td>\n",
       "    </tr>\n",
       "    <tr>\n",
       "      <th>84520</th>\n",
       "      <td>test/Cabbage__Bacterial_spot_rot/orig_115.jpg</td>\n",
       "      <td>Cabbage__Bacterial_spot_rot</td>\n",
       "    </tr>\n",
       "    <tr>\n",
       "      <th>84521</th>\n",
       "      <td>test/Cabbage__Bacterial_spot_rot/aug_2.jpg</td>\n",
       "      <td>Cabbage__Bacterial_spot_rot</td>\n",
       "    </tr>\n",
       "    <tr>\n",
       "      <th>84522</th>\n",
       "      <td>0</td>\n",
       "      <td>0</td>\n",
       "    </tr>\n",
       "  </tbody>\n",
       "</table>\n",
       "</div>"
      ],
      "text/plain": [
       "                                            filepath  \\\n",
       "84518   test/Cabbage__Bacterial_spot_rot/orig_24.jpg   \n",
       "84519   test/Cabbage__Bacterial_spot_rot/orig_80.jpg   \n",
       "84520  test/Cabbage__Bacterial_spot_rot/orig_115.jpg   \n",
       "84521     test/Cabbage__Bacterial_spot_rot/aug_2.jpg   \n",
       "84522                                              0   \n",
       "\n",
       "                             label  \n",
       "84518  Cabbage__Bacterial_spot_rot  \n",
       "84519  Cabbage__Bacterial_spot_rot  \n",
       "84520  Cabbage__Bacterial_spot_rot  \n",
       "84521  Cabbage__Bacterial_spot_rot  \n",
       "84522                            0  "
      ]
     },
     "execution_count": 43,
     "metadata": {},
     "output_type": "execute_result"
    }
   ],
   "source": [
    "demand.tail() \n",
    "# and this can take parameter\n",
    "# get me rows in last"
   ]
  },
  {
   "cell_type": "code",
   "execution_count": 44,
   "id": "dc1ddd85-daae-418f-88d5-8788b07bb871",
   "metadata": {},
   "outputs": [
    {
     "data": {
      "text/plain": [
       "(84523, 2)"
      ]
     },
     "execution_count": 44,
     "metadata": {},
     "output_type": "execute_result"
    }
   ],
   "source": [
    "demand.shape\n",
    "# (num of rows , num of column)"
   ]
  },
  {
   "cell_type": "code",
   "execution_count": 45,
   "id": "29dbe247-e75b-402f-b23d-4d319cc0b485",
   "metadata": {},
   "outputs": [
    {
     "name": "stdout",
     "output_type": "stream",
     "text": [
      "<class 'pandas.core.frame.DataFrame'>\n",
      "RangeIndex: 84523 entries, 0 to 84522\n",
      "Data columns (total 2 columns):\n",
      " #   Column    Non-Null Count  Dtype \n",
      "---  ------    --------------  ----- \n",
      " 0   filepath  84523 non-null  object\n",
      " 1   label     84523 non-null  object\n",
      "dtypes: object(2)\n",
      "memory usage: 1.3+ MB\n"
     ]
    }
   ],
   "source": [
    "demand.info()\n",
    "# Column - Non-Null Count - Dtype"
   ]
  },
  {
   "cell_type": "code",
   "execution_count": 46,
   "id": "5623ff23-75ee-4aec-9a97-10adedc6040c",
   "metadata": {},
   "outputs": [
    {
     "data": {
      "text/plain": [
       "<bound method DataFrame.info of                                             filepath  \\\n",
       "0                train/Cabbage__Black_Rot/aug_64.jpg   \n",
       "1                train/Cabbage__Black_Rot/aug_11.jpg   \n",
       "2                 train/Cabbage__Black_Rot/aug_4.jpg   \n",
       "3               train/Cabbage__Black_Rot/orig_49.jpg   \n",
       "4               train/Cabbage__Black_Rot/orig_69.jpg   \n",
       "...                                              ...   \n",
       "84518   test/Cabbage__Bacterial_spot_rot/orig_24.jpg   \n",
       "84519   test/Cabbage__Bacterial_spot_rot/orig_80.jpg   \n",
       "84520  test/Cabbage__Bacterial_spot_rot/orig_115.jpg   \n",
       "84521     test/Cabbage__Bacterial_spot_rot/aug_2.jpg   \n",
       "84522                                              0   \n",
       "\n",
       "                             label  \n",
       "0               Cabbage__Black_Rot  \n",
       "1               Cabbage__Black_Rot  \n",
       "2               Cabbage__Black_Rot  \n",
       "3               Cabbage__Black_Rot  \n",
       "4               Cabbage__Black_Rot  \n",
       "...                            ...  \n",
       "84518  Cabbage__Bacterial_spot_rot  \n",
       "84519  Cabbage__Bacterial_spot_rot  \n",
       "84520  Cabbage__Bacterial_spot_rot  \n",
       "84521  Cabbage__Bacterial_spot_rot  \n",
       "84522                            0  \n",
       "\n",
       "[84523 rows x 2 columns]>"
      ]
     },
     "execution_count": 46,
     "metadata": {},
     "output_type": "execute_result"
    }
   ],
   "source": [
    "demand.info\n",
    "# summary of Dataset"
   ]
  },
  {
   "cell_type": "code",
   "execution_count": 49,
   "id": "92335cd3-e144-407b-b1d9-45f1a3655907",
   "metadata": {},
   "outputs": [
    {
     "data": {
      "text/plain": [
       "filepath    0\n",
       "label       0\n",
       "dtype: int64"
      ]
     },
     "execution_count": 49,
     "metadata": {},
     "output_type": "execute_result"
    }
   ],
   "source": [
    "#preproccessing\n",
    "demand.isnull().sum()"
   ]
  },
  {
   "cell_type": "code",
   "execution_count": null,
   "id": "72f0c97b-64aa-4406-8da2-a99c271dbd61",
   "metadata": {},
   "outputs": [],
   "source": []
  },
  {
   "cell_type": "code",
   "execution_count": null,
   "id": "bcbfe606-11b2-41a1-84ac-ff40ac7df7a1",
   "metadata": {},
   "outputs": [],
   "source": []
  }
 ],
 "metadata": {
  "kernelspec": {
   "display_name": "Python 3 (ipykernel)",
   "language": "python",
   "name": "python3"
  },
  "language_info": {
   "codemirror_mode": {
    "name": "ipython",
    "version": 3
   },
   "file_extension": ".py",
   "mimetype": "text/x-python",
   "name": "python",
   "nbconvert_exporter": "python",
   "pygments_lexer": "ipython3",
   "version": "3.12.7"
  }
 },
 "nbformat": 4,
 "nbformat_minor": 5
}
